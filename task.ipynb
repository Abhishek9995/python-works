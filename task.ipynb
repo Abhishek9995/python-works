{
 "cells": [
  {
   "cell_type": "code",
   "execution_count": 2,
   "metadata": {},
   "outputs": [
    {
     "name": "stdout",
     "output_type": "stream",
     "text": [
      "choosen methode division\n",
      "choosen number is 1\n",
      "choosen number is 1\n",
      "wrong\n",
      "None\n"
     ]
    }
   ],
   "source": [
    "import task\n",
    "inputnum=input(\"please enter input number like (add,division,sub,multi,percentage)\")\n",
    "a=int(input(\"enter a number\"))\n",
    "b=int(input(\"enter a number\"))\n",
    "\n",
    "print(\"choosen methode\",inputnum)\n",
    "print(\"choosen number is\",a)\n",
    "print(\"choosen number is\",b)\n",
    "\n",
    "if inputnum==\"add\":\n",
    "    print(task.add(a,b))\n",
    "elif inputnum==\"division\":\n",
    "    print(task.division(a,b))\n",
    "elif inputnum==\"sub\":\n",
    "    print(task.sub(a,b))\n",
    "elif inputnum==\"multi\":\n",
    "    print(task.multi(a,b))\n",
    "elif inputnum==\"percentage\":\n",
    "    print(task.percentage(a,b))\n",
    "else:\n",
    "    print(\"no value\")\n",
    "    \n"
   ]
  },
  {
   "cell_type": "code",
   "execution_count": null,
   "metadata": {},
   "outputs": [],
   "source": [
    "\n",
    "\n",
    "\n",
    "\n",
    "\n",
    "\n",
    "\n",
    "\n",
    "\n"
   ]
  }
 ],
 "metadata": {
  "kernelspec": {
   "display_name": "venv",
   "language": "python",
   "name": "python3"
  },
  "language_info": {
   "codemirror_mode": {
    "name": "ipython",
    "version": 3
   },
   "file_extension": ".py",
   "mimetype": "text/x-python",
   "name": "python",
   "nbconvert_exporter": "python",
   "pygments_lexer": "ipython3",
   "version": "3.12.0"
  }
 },
 "nbformat": 4,
 "nbformat_minor": 2
}
