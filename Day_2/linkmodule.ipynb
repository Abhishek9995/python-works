{
 "cells": [
  {
   "cell_type": "code",
   "execution_count": 3,
   "metadata": {},
   "outputs": [
    {
     "name": "stdout",
     "output_type": "stream",
     "text": [
      "<function new at 0x0000025A99356E80>\n",
      "Help on function new in module module:\n",
      "\n",
      "new(a, b)\n",
      "    hyuhghg World\n",
      "\n",
      "hyuhghg World\n"
     ]
    }
   ],
   "source": [
    "import module\n",
    "print(module.new)\n",
    "help(module.new)\n",
    "print(module.new.__doc__)"
   ]
  },
  {
   "cell_type": "code",
   "execution_count": 3,
   "metadata": {},
   "outputs": [
    {
     "name": "stdout",
     "output_type": "stream",
     "text": [
      "a\n"
     ]
    },
    {
     "ename": "TypeError",
     "evalue": "'int' object is not subscriptable",
     "output_type": "error",
     "traceback": [
      "\u001b[1;31m---------------------------------------------------------------------------\u001b[0m",
      "\u001b[1;31mTypeError\u001b[0m                                 Traceback (most recent call last)",
      "Cell \u001b[1;32mIn[3], line 7\u001b[0m\n\u001b[0;32m      2\u001b[0m \u001b[38;5;28mprint\u001b[39m(a[\u001b[38;5;241m1\u001b[39m][\u001b[38;5;241m2\u001b[39m])\n\u001b[0;32m      6\u001b[0m b\u001b[38;5;241m=\u001b[39m[\u001b[38;5;241m1223455677\u001b[39m,\u001b[38;5;241m123456\u001b[39m,\u001b[38;5;241m2345678\u001b[39m,\u001b[38;5;241m34567\u001b[39m]\n\u001b[1;32m----> 7\u001b[0m \u001b[38;5;28mprint\u001b[39m(\u001b[43mb\u001b[49m\u001b[43m[\u001b[49m\u001b[38;5;241;43m1\u001b[39;49m\u001b[43m]\u001b[49m\u001b[43m[\u001b[49m\u001b[38;5;241;43m2\u001b[39;49m\u001b[43m]\u001b[49m)\n",
      "\u001b[1;31mTypeError\u001b[0m: 'int' object is not subscriptable"
     ]
    }
   ],
   "source": [
    "a= [\"apple\",\"orange\"]\n",
    "print(a[1][2])\n",
    "\n",
    "\n",
    "\n",
    "b=[1223455677,123456,2345678,34567]\n",
    "print(b[1][2])"
   ]
  },
  {
   "cell_type": "code",
   "execution_count": 5,
   "metadata": {},
   "outputs": [
    {
     "name": "stdout",
     "output_type": "stream",
     "text": [
      "a\n"
     ]
    }
   ],
   "source": [
    "studentnames= [\"varuna\",\"kowsalya\",\"bhuvanesh\",\"hari\",\"\"]\n",
    "print(a[1][2])"
   ]
  },
  {
   "cell_type": "code",
   "execution_count": 6,
   "metadata": {},
   "outputs": [],
   "source": [
    "studentnames.append(\"Kajol\")"
   ]
  },
  {
   "cell_type": "code",
   "execution_count": 10,
   "metadata": {},
   "outputs": [
    {
     "name": "stdout",
     "output_type": "stream",
     "text": [
      "['varuna', 'kowsalya', 'bhuvanesh', 'hari', '', 'Kajol', 'kowsalya', 'kowsalya', 'kowsalya']\n"
     ]
    }
   ],
   "source": [
    "studentnames.append(\"kowsalya\")\n",
    "print(studentnames)"
   ]
  },
  {
   "cell_type": "code",
   "execution_count": 14,
   "metadata": {},
   "outputs": [],
   "source": [
    "names2 = ['kavin', 'gaurav', 'raju', 'sundar']"
   ]
  },
  {
   "cell_type": "code",
   "execution_count": 15,
   "metadata": {},
   "outputs": [
    {
     "name": "stdout",
     "output_type": "stream",
     "text": [
      "['varuna', 'kowsalya', 'bhuvanesh', 'hari', '', 'Kajol', 'kowsalya', 'kowsalya', 'kowsalya', 'v', 'i', 'j', 'a', 'y']\n",
      "['varuna', 'kowsalya', 'bhuvanesh', 'hari', '', 'Kajol', 'kowsalya', 'kowsalya', 'kowsalya', 'v', 'i', 'j', 'a', 'y', 'kavin', 'gaurav', 'raju', 'sundar']\n"
     ]
    }
   ],
   "source": [
    "print(studentnames)\n",
    "studentnames.extend(\"n\")\n",
    "print(studentnames)"
   ]
  },
  {
   "cell_type": "code",
   "execution_count": 16,
   "metadata": {},
   "outputs": [
    {
     "name": "stdout",
     "output_type": "stream",
     "text": [
      "['varuna', 'kowsalya', 'swetha', 'bhuvanesh', 'hari', '', 'Kajol', 'kowsalya', 'kowsalya', 'kowsalya', 'v', 'i', 'j', 'a', 'y', 'kavin', 'gaurav', 'raju', 'sundar']\n"
     ]
    }
   ],
   "source": [
    "studentnames.insert(2,\"swetha\")\n",
    "print(studentnames)"
   ]
  },
  {
   "cell_type": "code",
   "execution_count": 18,
   "metadata": {},
   "outputs": [],
   "source": [
    "studentnames.remove(\"Kajol\")"
   ]
  },
  {
   "cell_type": "code",
   "execution_count": 20,
   "metadata": {},
   "outputs": [
    {
     "name": "stdout",
     "output_type": "stream",
     "text": [
      "['varuna', 'kowsalya', 'swetha', 'bhuvanesh', 'hari', '', 'kowsalya', 'kowsalya', 'kowsalya', 'v', 'i', 'j', 'a', 'y', 'kavin', 'gaurav', 'raju', 'sundar']\n",
      "['varuna', 'kowsalya', 'swetha', 'bhuvanesh', 'hari', 'kowsalya', 'kowsalya', 'kowsalya', 'v', 'i', 'j', 'a', 'y', 'kavin', 'gaurav', 'raju', 'sundar']\n"
     ]
    }
   ],
   "source": [
    "print(studentnames)\n",
    "studentnames.remove(\"\")\n",
    "print(studentnames)"
   ]
  },
  {
   "cell_type": "code",
   "execution_count": 21,
   "metadata": {},
   "outputs": [
    {
     "data": {
      "text/plain": [
       "'i'"
      ]
     },
     "execution_count": 21,
     "metadata": {},
     "output_type": "execute_result"
    }
   ],
   "source": [
    "studentnames.pop(9)"
   ]
  },
  {
   "cell_type": "code",
   "execution_count": 22,
   "metadata": {},
   "outputs": [
    {
     "ename": "TypeError",
     "evalue": "'str' object cannot be interpreted as an integer",
     "output_type": "error",
     "traceback": [
      "\u001b[1;31m---------------------------------------------------------------------------\u001b[0m",
      "\u001b[1;31mTypeError\u001b[0m                                 Traceback (most recent call last)",
      "Cell \u001b[1;32mIn[22], line 1\u001b[0m\n\u001b[1;32m----> 1\u001b[0m \u001b[43mstudentnames\u001b[49m\u001b[38;5;241;43m.\u001b[39;49m\u001b[43mpop\u001b[49m\u001b[43m(\u001b[49m\u001b[38;5;124;43m'\u001b[39;49m\u001b[38;5;124;43my\u001b[39;49m\u001b[38;5;124;43m'\u001b[39;49m\u001b[43m)\u001b[49m\n",
      "\u001b[1;31mTypeError\u001b[0m: 'str' object cannot be interpreted as an integer"
     ]
    }
   ],
   "source": [
    "studentnames.pop('y')"
   ]
  },
  {
   "cell_type": "code",
   "execution_count": 23,
   "metadata": {},
   "outputs": [
    {
     "name": "stdout",
     "output_type": "stream",
     "text": [
      "['varuna', 'kowsalya', 'swetha', 'bhuvanesh', 'hari', 'kowsalya', 'kowsalya', 'kowsalya', 'v', 'j', 'a', 'y', 'kavin', 'gaurav', 'raju', 'sundar']\n"
     ]
    },
    {
     "ename": "ValueError",
     "evalue": "10 is not in list",
     "output_type": "error",
     "traceback": [
      "\u001b[1;31m---------------------------------------------------------------------------\u001b[0m",
      "\u001b[1;31mValueError\u001b[0m                                Traceback (most recent call last)",
      "Cell \u001b[1;32mIn[23], line 2\u001b[0m\n\u001b[0;32m      1\u001b[0m \u001b[38;5;28mprint\u001b[39m(studentnames)\n\u001b[1;32m----> 2\u001b[0m \u001b[43mstudentnames\u001b[49m\u001b[38;5;241;43m.\u001b[39;49m\u001b[43mindex\u001b[49m\u001b[43m(\u001b[49m\u001b[38;5;241;43m10\u001b[39;49m\u001b[43m)\u001b[49m\n",
      "\u001b[1;31mValueError\u001b[0m: 10 is not in list"
     ]
    }
   ],
   "source": []
  },
  {
   "cell_type": "code",
   "execution_count": 28,
   "metadata": {},
   "outputs": [
    {
     "name": "stdout",
     "output_type": "stream",
     "text": [
      "0\n"
     ]
    }
   ],
   "source": [
    "\n",
    "a = studentnames.index(\"varuna\")\n",
    "print(a)"
   ]
  },
  {
   "cell_type": "code",
   "execution_count": 30,
   "metadata": {},
   "outputs": [
    {
     "ename": "TypeError",
     "evalue": "list.count() takes exactly one argument (0 given)",
     "output_type": "error",
     "traceback": [
      "\u001b[1;31m---------------------------------------------------------------------------\u001b[0m",
      "\u001b[1;31mTypeError\u001b[0m                                 Traceback (most recent call last)",
      "Cell \u001b[1;32mIn[30], line 1\u001b[0m\n\u001b[1;32m----> 1\u001b[0m b \u001b[38;5;241m=\u001b[39m \u001b[43mstudentnames\u001b[49m\u001b[38;5;241;43m.\u001b[39;49m\u001b[43mcount\u001b[49m\u001b[43m(\u001b[49m\u001b[43m)\u001b[49m\n\u001b[0;32m      2\u001b[0m \u001b[38;5;28mprint\u001b[39m(b)\n",
      "\u001b[1;31mTypeError\u001b[0m: list.count() takes exactly one argument (0 given)"
     ]
    }
   ],
   "source": [
    "b = studentnames.count()\n",
    "print(b)"
   ]
  },
  {
   "cell_type": "code",
   "execution_count": 37,
   "metadata": {},
   "outputs": [
    {
     "ename": "TypeError",
     "evalue": "list.count() takes exactly one argument (0 given)",
     "output_type": "error",
     "traceback": [
      "\u001b[1;31m---------------------------------------------------------------------------\u001b[0m",
      "\u001b[1;31mTypeError\u001b[0m                                 Traceback (most recent call last)",
      "Cell \u001b[1;32mIn[37], line 1\u001b[0m\n\u001b[1;32m----> 1\u001b[0m a\u001b[38;5;241m=\u001b[39m\u001b[43mstudentnames\u001b[49m\u001b[38;5;241;43m.\u001b[39;49m\u001b[43mcount\u001b[49m\u001b[43m(\u001b[49m\u001b[43m)\u001b[49m\n\u001b[0;32m      2\u001b[0m \u001b[38;5;28mprint\u001b[39m(a)\n",
      "\u001b[1;31mTypeError\u001b[0m: list.count() takes exactly one argument (0 given)"
     ]
    }
   ],
   "source": [
    "a=studentnames.count(\"\")\n",
    "print(a)"
   ]
  },
  {
   "cell_type": "code",
   "execution_count": 38,
   "metadata": {},
   "outputs": [
    {
     "name": "stdout",
     "output_type": "stream",
     "text": [
      "None\n"
     ]
    }
   ],
   "source": [
    "a=studentnames.sort()\n",
    "print(a)"
   ]
  },
  {
   "cell_type": "code",
   "execution_count": 39,
   "metadata": {},
   "outputs": [
    {
     "name": "stdout",
     "output_type": "stream",
     "text": [
      "['a', 'bhuvanesh', 'gaurav', 'hari', 'j', 'kavin', 'kowsalya', 'kowsalya', 'kowsalya', 'kowsalya', 'raju', 'sundar', 'swetha', 'v', 'varuna', 'y']\n"
     ]
    }
   ],
   "source": [
    "studentnames.sort()\n",
    "print(studentnames)"
   ]
  },
  {
   "cell_type": "code",
   "execution_count": 40,
   "metadata": {},
   "outputs": [
    {
     "name": "stdout",
     "output_type": "stream",
     "text": [
      "['y', 'varuna', 'v', 'swetha', 'sundar', 'raju', 'kowsalya', 'kowsalya', 'kowsalya', 'kowsalya', 'kavin', 'j', 'hari', 'gaurav', 'bhuvanesh', 'a']\n"
     ]
    }
   ],
   "source": [
    "studentnames.sort(reverse=tuple)\n",
    "print(studentnames)"
   ]
  },
  {
   "cell_type": "code",
   "execution_count": 41,
   "metadata": {},
   "outputs": [
    {
     "name": "stdout",
     "output_type": "stream",
     "text": [
      "['a', 'bhuvanesh', 'gaurav', 'hari', 'j', 'kavin', 'kowsalya', 'kowsalya', 'kowsalya', 'kowsalya', 'raju', 'sundar', 'swetha', 'v', 'varuna', 'y']\n"
     ]
    }
   ],
   "source": [
    "studentnames.reverse()\n",
    "print(studentnames)"
   ]
  },
  {
   "cell_type": "markdown",
   "metadata": {},
   "source": [
    "b=studentnames.copy()\n",
    "print(studentnames)"
   ]
  },
  {
   "cell_type": "code",
   "execution_count": null,
   "metadata": {},
   "outputs": [],
   "source": [
    "\n",
    "\n",
    "studentnames.reverse()\n",
    "print(studentnames)"
   ]
  },
  {
   "cell_type": "code",
   "execution_count": null,
   "metadata": {},
   "outputs": [],
   "source": [
    "tuple"
   ]
  }
 ],
 "metadata": {
  "kernelspec": {
   "display_name": "venv",
   "language": "python",
   "name": "python3"
  },
  "language_info": {
   "codemirror_mode": {
    "name": "ipython",
    "version": 3
   },
   "file_extension": ".py",
   "mimetype": "text/x-python",
   "name": "python",
   "nbconvert_exporter": "python",
   "pygments_lexer": "ipython3",
   "version": "3.12.0"
  }
 },
 "nbformat": 4,
 "nbformat_minor": 2
}
