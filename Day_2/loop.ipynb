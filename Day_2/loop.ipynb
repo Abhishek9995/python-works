{
 "cells": [
  {
   "cell_type": "code",
   "execution_count": 9,
   "metadata": {},
   "outputs": [
    {
     "name": "stdout",
     "output_type": "stream",
     "text": [
      "Name : Abhishek\n",
      "Dob : 19-10-1999\n",
      "Place : kerala\n",
      "Qualification : bcom\n",
      "Gender : male\n"
     ]
    }
   ],
   "source": [
    "cv = {'Name':'Abhishek','Dob':'19-10-1999','Place':'kerala','Qualification':'bcom','Gender':'male'}\n",
    "for details in cv:\n",
    "    print(details,\":\",cv[details])"
   ]
  },
  {
   "cell_type": "code",
   "execution_count": null,
   "metadata": {},
   "outputs": [],
   "source": []
  }
 ],
 "metadata": {
  "kernelspec": {
   "display_name": "venv",
   "language": "python",
   "name": "python3"
  },
  "language_info": {
   "codemirror_mode": {
    "name": "ipython",
    "version": 3
   },
   "file_extension": ".py",
   "mimetype": "text/x-python",
   "name": "python",
   "nbconvert_exporter": "python",
   "pygments_lexer": "ipython3",
   "version": "3.12.0"
  }
 },
 "nbformat": 4,
 "nbformat_minor": 2
}
