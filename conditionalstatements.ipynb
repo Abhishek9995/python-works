{
 "cells": [
  {
   "cell_type": "code",
   "execution_count": 1,
   "metadata": {},
   "outputs": [
    {
     "name": "stdout",
     "output_type": "stream",
     "text": [
      "not 10\n"
     ]
    }
   ],
   "source": [
    "#elif\n",
    "\n",
    "a=1 \n",
    "if a<10:\n",
    "    print(\"not 10\")\n",
    "elif a>10:\n",
    "    print(\"a>10\")\n",
    "else:\n",
    "    print(\"a=10\")"
   ]
  },
  {
   "cell_type": "code",
   "execution_count": 2,
   "metadata": {},
   "outputs": [
    {
     "name": "stdout",
     "output_type": "stream",
     "text": [
      "10\n"
     ]
    }
   ],
   "source": [
    "#if\n",
    "\n",
    "a=10\n",
    "if a==10:\n",
    "    print(\"10\")"
   ]
  },
  {
   "cell_type": "code",
   "execution_count": 3,
   "metadata": {},
   "outputs": [
    {
     "name": "stdout",
     "output_type": "stream",
     "text": [
      "! 10\n"
     ]
    }
   ],
   "source": [
    "#ifelse\n",
    "\n",
    "a= 11\n",
    "if a==10:\n",
    "    print(\"yes 10\")\n",
    "else:\n",
    "    print(\"! 10\")"
   ]
  },
  {
   "cell_type": "code",
   "execution_count": 4,
   "metadata": {},
   "outputs": [
    {
     "name": "stdout",
     "output_type": "stream",
     "text": [
      "not in the range of 10-15\n"
     ]
    }
   ],
   "source": [
    "#nestedif\n",
    "\n",
    "age=19\n",
    "if age==10:\n",
    "    if age>= 10 & age <15:\n",
    "        print(\"age is between 10-15\")\n",
    "    else:\n",
    "        print(\"not between 10-15\")\n",
    "else:\n",
    "    print(\"not in the range of 10-15\")"
   ]
  },
  {
   "cell_type": "code",
   "execution_count": 5,
   "metadata": {},
   "outputs": [
    {
     "name": "stdout",
     "output_type": "stream",
     "text": [
      "even number\n"
     ]
    }
   ],
   "source": [
    "age =10\n",
    "if age==10:\n",
    "    if age%2==0:\n",
    "         print(\"even number\")\n",
    "    else:\n",
    "        print(\"odd number\")\n",
    "else:\n",
    "    (\"negative number\")"
   ]
  },
  {
   "cell_type": "code",
   "execution_count": 6,
   "metadata": {},
   "outputs": [
    {
     "name": "stdout",
     "output_type": "stream",
     "text": [
      "age is between 10 to 40\n"
     ]
    }
   ],
   "source": [
    "age= int(input(\"enter your age\"))\n",
    "if age>=0 & age<12:\n",
    "    print(\"age is between 10 to 40\")\n",
    "elif age>=40 & age<70:\n",
    "    print(\"age is between 40 to 70\")\n",
    "else:\n",
    "    print(\"age is more than 70\")\n",
    "    "
   ]
  },
  {
   "cell_type": "code",
   "execution_count": 8,
   "metadata": {},
   "outputs": [
    {
     "name": "stdout",
     "output_type": "stream",
     "text": [
      "hyuhghg World\n"
     ]
    }
   ],
   "source": [
    "import module\n",
    "# print(module.newf)\n",
    "# help(module.newf)\n",
    "print(module.new.__doc__)"
   ]
  },
  {
   "cell_type": "code",
   "execution_count": 9,
   "metadata": {},
   "outputs": [],
   "source": [
    "def functionh(name,city):\n",
    "    print(f\"Hello,{name} {city}\")"
   ]
  },
  {
   "cell_type": "code",
   "execution_count": 13,
   "metadata": {},
   "outputs": [
    {
     "name": "stdout",
     "output_type": "stream",
     "text": [
      "Hello,Abhishek chennai\n"
     ]
    }
   ],
   "source": [
    "functionh(\"Abhishek\",\"chennai\")"
   ]
  },
  {
   "cell_type": "code",
   "execution_count": 11,
   "metadata": {},
   "outputs": [
    {
     "name": "stdout",
     "output_type": "stream",
     "text": [
      "Hello,Abhi kasarkod\n"
     ]
    }
   ],
   "source": [
    "functionh(city=\"kasarkod\",name=\"Abhi\")"
   ]
  },
  {
   "cell_type": "code",
   "execution_count": 18,
   "metadata": {},
   "outputs": [],
   "source": [
    "def functionn(name='abhi',message=\"welcome\"):\n",
    "    print(f\"hello,{name} {message}\")"
   ]
  },
  {
   "cell_type": "code",
   "execution_count": 19,
   "metadata": {},
   "outputs": [
    {
     "name": "stdout",
     "output_type": "stream",
     "text": [
      "hello,abhishek welcome\n"
     ]
    }
   ],
   "source": [
    "functionn (\"abhishek\")"
   ]
  },
  {
   "cell_type": "code",
   "execution_count": null,
   "metadata": {},
   "outputs": [],
   "source": []
  }
 ],
 "metadata": {
  "kernelspec": {
   "display_name": "venv",
   "language": "python",
   "name": "python3"
  },
  "language_info": {
   "codemirror_mode": {
    "name": "ipython",
    "version": 3
   },
   "file_extension": ".py",
   "mimetype": "text/x-python",
   "name": "python",
   "nbconvert_exporter": "python",
   "pygments_lexer": "ipython3",
   "version": "3.12.0"
  }
 },
 "nbformat": 4,
 "nbformat_minor": 2
}
